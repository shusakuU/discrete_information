{
 "cells": [
  {
   "cell_type": "code",
   "execution_count": 26,
   "metadata": {},
   "outputs": [],
   "source": [
    "import numpy as np\n",
    "from collections import deque"
   ]
  },
  {
   "cell_type": "code",
   "execution_count": 61,
   "metadata": {},
   "outputs": [],
   "source": [
    "class Binary_node():\n",
    "    def  __init__(self,parent,value):\n",
    "        self.parent = parent\n",
    "        self.value = value\n",
    "        self.left_child = None\n",
    "        self.right_child = None\n",
    "        \n",
    "    def __str__(self):\n",
    "        left_child_value = self.left_child.value if self.left_child is not None else 'None'\n",
    "        right_child_value = self.right_child.value if self.right_child is not None else 'None'\n",
    "        parent_value = self.get_parent().value if not self.is_root() else None\n",
    "        return f'parent:{parent_value},value:{self.value},index:{self.index}'\n",
    "    \n",
    "    def set_parent(self, parent):\n",
    "        self.parent = parent\n",
    "    \n",
    "    def set_child(self, child, is_right:bool):\n",
    "        child.set_parent(self)\n",
    "        if is_right:\n",
    "            self.right_child = child\n",
    "        else:\n",
    "            self.left_child = child\n",
    "    \n",
    "    def get_parent(self):\n",
    "        return self.parent\n",
    "    \n",
    "    def get_child(self,is_right:bool):\n",
    "        if is_right:\n",
    "            return self.right_child\n",
    "        else:\n",
    "            return self.left_child\n",
    "    \n",
    "    def is_root(self):\n",
    "        return (self.parent is None)\n",
    "    \n",
    "    def has_child(self,is_right):\n",
    "        if is_right:\n",
    "            return self.right_child is not None\n",
    "        else:\n",
    "            return self.left_child is not None\n",
    "        \n",
    "\n",
    "class Binary_tree():\n",
    "    def  __init__(self,root_value):\n",
    "        self.root = Binary_node(parent=None,value=root_value)\n",
    "    \n",
    "    def get_root(self):\n",
    "        return self.root\n",
    "    \n",
    "    def set_root(self,new_root):\n",
    "        self.root = new_root"
   ]
  },
  {
   "cell_type": "code",
   "execution_count": 62,
   "metadata": {},
   "outputs": [],
   "source": [
    "class Cartesian_node(Binary_node):\n",
    "    def __init__(self,parent,value,index):\n",
    "        super().__init__(parent,value)\n",
    "        self.index = index\n",
    "    \n",
    "    def get_index(self):\n",
    "        return self.index\n",
    "    \n",
    "    def set_index(self,index):\n",
    "        self.index = index\n",
    "        \n",
    "        \n",
    "class Cartesian_tree(Binary_tree):\n",
    "    def __init__(self,A:list):\n",
    "        self.set_root(Cartesian_node(None,A[0],0))\n",
    "        self.size = len(A)\n",
    "        for i in range(1,len(A)):\n",
    "            node_on_rightmost_path = self.get_root()\n",
    "            while node_on_rightmost_path.has_child(is_right=True):\n",
    "                if A[i] < node_on_rightmost_path.value and node_on_rightmost_path.is_root:\n",
    "                    break\n",
    "                next_node = node_on_rightmost_path.get_child(is_right=True)\n",
    "                if node_on_rightmost_path.value <= A[i] < next_node.value:\n",
    "                    break\n",
    "                node_on_rightmost_path = next_node\n",
    "                \n",
    "                \n",
    "            if not node_on_rightmost_path.has_child(is_right=True):\n",
    "                new_node = Cartesian_node(node_on_rightmost_path,A[i],i)\n",
    "                node_on_rightmost_path.set_child(new_node,is_right=True)\n",
    "            elif node_on_rightmost_path.is_root() and A[i] < node_on_rightmost_path.value:\n",
    "                new_node = Cartesian_node(None,A[i],i)\n",
    "                new_node.set_child(node_on_rightmost_path,is_right=False)\n",
    "                self.set_root(new_node)\n",
    "            else:\n",
    "                new_node = Cartesian_node(node_on_rightmost_path,A[i],i)\n",
    "                if node_on_rightmost_path.has_child(is_right=True):\n",
    "                    new_node.set_child(node_on_rightmost_path.get_child(is_right=True), is_right=False)\n",
    "                node_on_rightmost_path.set_child(new_node,is_right=True)\n",
    "        "
   ]
  },
  {
   "cell_type": "code",
   "execution_count": 63,
   "metadata": {},
   "outputs": [],
   "source": [
    "def show_tree(c: Cartesian_tree):\n",
    "    nodes_to_search = deque([[c.root,1]])\n",
    "    current_depth=0\n",
    "    while len(nodes_to_search) > 0:\n",
    "        node,depth = nodes_to_search.popleft()\n",
    "        if depth != current_depth:\n",
    "            temp = \"\\n\" if current_depth!=0 else \"\"\n",
    "            print(f'{temp}depth:{depth}')\n",
    "            current_depth = depth\n",
    "        print(node)\n",
    "        if node.has_child(is_right=False):\n",
    "            nodes_to_search.append([node.get_child(is_right=False),depth+1])\n",
    "        if node.has_child(is_right=True):\n",
    "            nodes_to_search.append([node.get_child(is_right=True),depth+1])"
   ]
  },
  {
   "cell_type": "code",
   "execution_count": 75,
   "metadata": {},
   "outputs": [],
   "source": [
    "c = Cartesian_tree([2,4,3,5,1,8,6,7,9])"
   ]
  },
  {
   "cell_type": "code",
   "execution_count": 76,
   "metadata": {},
   "outputs": [
    {
     "name": "stdout",
     "output_type": "stream",
     "text": [
      "depth:1\n",
      "parent:None,value:1,index:4\n",
      "\n",
      "depth:2\n",
      "parent:1,value:2,index:0\n",
      "parent:1,value:6,index:6\n",
      "\n",
      "depth:3\n",
      "parent:2,value:3,index:2\n",
      "parent:6,value:8,index:5\n",
      "parent:6,value:7,index:7\n",
      "\n",
      "depth:4\n",
      "parent:3,value:4,index:1\n",
      "parent:3,value:5,index:3\n",
      "parent:7,value:9,index:8\n"
     ]
    }
   ],
   "source": [
    "show_tree(c)"
   ]
  },
  {
   "cell_type": "code",
   "execution_count": 70,
   "metadata": {},
   "outputs": [
    {
     "name": "stdout",
     "output_type": "stream",
     "text": [
      "[8 6 3 4 5 4 4 4 3 8 6 2 8 4 1 7 2 7 8 1]\n",
      "depth:1\n",
      "parent:None,value:1,index:14\n",
      "\n",
      "depth:2\n",
      "parent:1,value:2,index:11\n",
      "parent:1,value:1,index:19\n",
      "\n",
      "depth:3\n",
      "parent:2,value:3,index:2\n",
      "parent:2,value:4,index:13\n",
      "parent:1,value:2,index:16\n",
      "\n",
      "depth:4\n",
      "parent:3,value:8,index:0\n",
      "parent:3,value:3,index:8\n",
      "parent:4,value:8,index:12\n",
      "parent:2,value:7,index:15\n",
      "parent:2,value:7,index:17\n",
      "\n",
      "depth:5\n",
      "parent:8,value:6,index:1\n",
      "parent:3,value:4,index:3\n",
      "parent:3,value:6,index:10\n",
      "parent:7,value:8,index:18\n",
      "\n",
      "depth:6\n",
      "parent:4,value:4,index:5\n",
      "parent:6,value:8,index:9\n",
      "\n",
      "depth:7\n",
      "parent:4,value:5,index:4\n",
      "parent:4,value:4,index:6\n",
      "\n",
      "depth:8\n",
      "parent:4,value:4,index:7\n"
     ]
    }
   ],
   "source": [
    "x = np.random.randint(1,10,20)\n",
    "print(x)\n",
    "c = Cartesian_tree(x)\n",
    "show_tree(c)"
   ]
  },
  {
   "cell_type": "code",
   "execution_count": null,
   "metadata": {},
   "outputs": [],
   "source": []
  },
  {
   "cell_type": "code",
   "execution_count": 71,
   "metadata": {},
   "outputs": [],
   "source": [
    "def make_excess_array_from_Cartesian_tree(tree:Cartesian_tree):\n",
    "    n = tree.size\n",
    "    array = np.zeros(2*n+1,dtype='int')\n",
    "    node_to_search = tree.get_root()\n",
    "    depth, search_index = 1,1\n",
    "    left_already_searched = False\n",
    "    right_already_searched = False\n",
    "    while True:\n",
    "        if (not left_already_searched) and (not right_already_searched):\n",
    "            array[search_index] = depth\n",
    "        else:\n",
    "            search_index -= 1\n",
    "        if node_to_search.has_child(is_right=False) and not left_already_searched:\n",
    "            node_to_search = node_to_search.get_child(is_right=False)\n",
    "            left_already_searched = False\n",
    "            right_already_searched = False\n",
    "            search_index += 1\n",
    "            depth += 1\n",
    "            continue\n",
    "        if node_to_search.has_child(is_right=True) and not right_already_searched:\n",
    "            node_to_search = node_to_search.get_child(is_right=True)\n",
    "            left_already_searched = False\n",
    "            right_already_searched = False\n",
    "            search_index += 1\n",
    "            depth += 1\n",
    "            continue\n",
    "        if not node_to_search.has_child(is_right=True) or right_already_searched:\n",
    "            search_index += 1\n",
    "            array[search_index] = depth-1 # finish\n",
    "            if node_to_search.is_root():\n",
    "                break\n",
    "            parent = node_to_search.get_parent()\n",
    "            if parent.has_child(is_right=False) and parent.get_child(is_right=False)==node_to_search:\n",
    "                right_already_searched = False\n",
    "            if parent.has_child(is_right=True) and parent.get_child(is_right=True)==node_to_search:\n",
    "                right_already_searched = True\n",
    "            node_to_search = parent\n",
    "            search_index += 1\n",
    "            depth -= 1\n",
    "            left_already_searched = True\n",
    "    return array"
   ]
  },
  {
   "cell_type": "code",
   "execution_count": 77,
   "metadata": {},
   "outputs": [
    {
     "data": {
      "text/plain": [
       "array([0, 1, 2, 3, 4, 3, 4, 3, 2, 1, 2, 3, 2, 3, 4, 3, 2, 1, 0])"
      ]
     },
     "execution_count": 77,
     "metadata": {},
     "output_type": "execute_result"
    }
   ],
   "source": [
    "make_excess_array_from_Cartesian_tree(c)"
   ]
  },
  {
   "cell_type": "code",
   "execution_count": 78,
   "metadata": {},
   "outputs": [],
   "source": [
    "def make_plus_minus_one_array(tree:Cartesian_tree):\n",
    "    DFS_array = make_excess_array_from_Cartesian_tree(tree)\n",
    "    B = ((DFS_array[1:]-DFS_array[:-1])==1).astype('int')\n",
    "    return B"
   ]
  },
  {
   "cell_type": "code",
   "execution_count": 80,
   "metadata": {},
   "outputs": [
    {
     "data": {
      "text/plain": [
       "array([1, 1, 1, 1, 0, 1, 0, 0, 0, 1, 1, 0, 1, 1, 0, 0, 0, 0])"
      ]
     },
     "execution_count": 80,
     "metadata": {},
     "output_type": "execute_result"
    }
   ],
   "source": [
    "make_plus_minus_one_array(c)"
   ]
  },
  {
   "cell_type": "raw",
   "metadata": {},
   "source": []
  },
  {
   "cell_type": "code",
   "execution_count": 10,
   "metadata": {},
   "outputs": [],
   "source": []
  },
  {
   "cell_type": "code",
   "execution_count": null,
   "metadata": {},
   "outputs": [],
   "source": []
  }
 ],
 "metadata": {
  "kernelspec": {
   "display_name": "Python 3",
   "language": "python",
   "name": "python3"
  },
  "language_info": {
   "codemirror_mode": {
    "name": "ipython",
    "version": 3
   },
   "file_extension": ".py",
   "mimetype": "text/x-python",
   "name": "python",
   "nbconvert_exporter": "python",
   "pygments_lexer": "ipython3",
   "version": "3.7.6"
  }
 },
 "nbformat": 4,
 "nbformat_minor": 2
}
