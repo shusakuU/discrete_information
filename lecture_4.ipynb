{
 "cells": [
  {
   "cell_type": "code",
   "execution_count": 10,
   "metadata": {},
   "outputs": [],
   "source": [
    "import numpy as np"
   ]
  },
  {
   "cell_type": "code",
   "execution_count": 11,
   "metadata": {
    "collapsed": true
   },
   "outputs": [],
   "source": [
    "class Binary_node():\n",
    "    def  __init__(self,parent,value):\n",
    "        self.parent = parent\n",
    "        self.value = value\n",
    "        self.left_child = None\n",
    "        self.right_child = None\n",
    "        \n",
    "    def __str__(self):\n",
    "        left_child_value = self.left_child.value if self.left_child is not None else 'None'\n",
    "        right_child_value = self.right_child.value if self.right_child is not None else 'None'\n",
    "        parent_value = self.get_parent().value if not self.is_root() else None\n",
    "        return f'parent:{parent_value},value:{self.value},index:{self.index}'\n",
    "    \n",
    "    def set_parent(self, parent):\n",
    "        self.parent = parent\n",
    "    \n",
    "    def set_child(self, child, is_right:bool):\n",
    "        child.set_parent(self)\n",
    "        if is_right:\n",
    "            self.right_child = child\n",
    "        else:\n",
    "            self.left_child = child\n",
    "    \n",
    "    def get_parent(self):\n",
    "        return self.parent\n",
    "    \n",
    "    def get_child(self,is_right:bool):\n",
    "        if is_right:\n",
    "            return self.right_child\n",
    "        else:\n",
    "            return self.left_child\n",
    "    \n",
    "    def is_root(self):\n",
    "        return (self.parent is None)\n",
    "    \n",
    "    def has_child(self,is_right):\n",
    "        if is_right:\n",
    "            return self.right_child is not None\n",
    "        else:\n",
    "            return self.left_child is not None\n",
    "        \n",
    "\n",
    "class Binary_tree():\n",
    "    def  __init__(self,root_value):\n",
    "        self.root = Binary_node(parent=None,value=root_value)\n",
    "    \n",
    "    def get_root(self):\n",
    "        return self.root\n",
    "    \n",
    "    def set_root(self,new_root):\n",
    "        self.root = new_root"
   ]
  },
  {
   "cell_type": "code",
   "execution_count": 12,
   "metadata": {},
   "outputs": [],
   "source": [
    "class Cartesian_node(Binary_node):\n",
    "    def __init__(self,parent,value,index):\n",
    "        super().__init__(parent,value)\n",
    "        self.index = index\n",
    "    \n",
    "    def get_index(self):\n",
    "        return self.index\n",
    "    \n",
    "    def set_index(self,index):\n",
    "        self.index = index\n",
    "        \n",
    "        \n",
    "class Cartesian_tree(Binary_tree):\n",
    "    def __init__(self,A:list):\n",
    "        self.set_root(Cartesian_node(None,A[0],0))\n",
    "        self.size = len(A)\n",
    "        for i in range(1,len(A)):\n",
    "            node_on_rightmost_path = self.get_root()\n",
    "            while node_on_rightmost_path.has_child(is_right=True):\n",
    "                if A[i] < node_on_rightmost_path.value and node_on_rightmost_path.is_root:\n",
    "                    break\n",
    "                next_node = node_on_rightmost_path.get_child(is_right=True)\n",
    "                if node_on_rightmost_path.value <= A[i] < next_node.value:\n",
    "                    break\n",
    "                node_on_rightmost_path = next_node\n",
    "                \n",
    "                \n",
    "            if not node_on_rightmost_path.has_child(is_right=True):\n",
    "                new_node = Cartesian_node(node_on_rightmost_path,A[i],i)\n",
    "                node_on_rightmost_path.set_child(new_node,is_right=True)\n",
    "            elif node_on_rightmost_path.is_root() and A[i] < node_on_rightmost_path.value:\n",
    "                new_node = Cartesian_node(None,A[i],i)\n",
    "                new_node.set_child(node_on_rightmost_path,is_right=False)\n",
    "                self.set_root(new_node)\n",
    "            else:\n",
    "                new_node = Cartesian_node(node_on_rightmost_path,A[i],i)\n",
    "                if node_on_rightmost_path.has_child(is_right=True):\n",
    "                    new_node.set_child(node_on_rightmost_path.get_child(is_right=True), is_right=False)\n",
    "                node_on_rightmost_path.set_child(new_node,is_right=True)\n",
    "        "
   ]
  },
  {
   "cell_type": "code",
   "execution_count": 13,
   "metadata": {},
   "outputs": [],
   "source": [
    "c = Cartesian_tree([2,4,3,5,1,8,6,7,9])"
   ]
  },
  {
   "cell_type": "code",
   "execution_count": 14,
   "metadata": {},
   "outputs": [
    {
     "name": "stdout",
     "output_type": "stream",
     "text": [
      "parent:None,value:1,index:4\n",
      "\n",
      "parent:1,value:2,index:0\n",
      "parent:1,value:6,index:6\n",
      "\n",
      "parent:2,value:3,index:2\n",
      "parent:6,value:8,index:5\n",
      "parent:6,value:7,index:7\n",
      "\n",
      "parent:3,value:4,index:1\n",
      "parent:3,value:5,index:3\n",
      "parent:7,value:9,index:8\n"
     ]
    }
   ],
   "source": [
    "print(c.get_root())\n",
    "print()\n",
    "print(c.get_root().get_child(is_right=False))\n",
    "print(c.get_root().get_child(is_right=True))\n",
    "print()\n",
    "print(c.get_root().get_child(is_right=False).get_child(is_right=True))\n",
    "print(c.get_root().get_child(is_right=True).get_child(is_right=False))\n",
    "print(c.get_root().get_child(is_right=True).get_child(is_right=True))\n",
    "print()\n",
    "print(c.get_root().get_child(is_right=False).get_child(is_right=True).get_child(is_right=False))\n",
    "print(c.get_root().get_child(is_right=False).get_child(is_right=True).get_child(is_right=True))\n",
    "print(c.get_root().get_child(is_right=True).get_child(is_right=True).get_child(is_right=True))"
   ]
  },
  {
   "cell_type": "code",
   "execution_count": 44,
   "metadata": {},
   "outputs": [],
   "source": [
    "def make_DFS_array_from_Cartesian_tree(tree:Cartesian_tree):\n",
    "    n = tree.size\n",
    "    array = np.zeros(2*n+1,dtype='int')\n",
    "    node_to_search = tree.get_root()\n",
    "    depth, search_index = 1,1\n",
    "    left_already_searched = False\n",
    "    right_already_searched = False\n",
    "    while True:\n",
    "        if (not left_already_searched) and (not right_already_searched):\n",
    "            array[search_index] = depth\n",
    "        else:\n",
    "            search_index -= 1\n",
    "        if node_to_search.has_child(is_right=False) and not left_already_searched:\n",
    "            node_to_search = node_to_search.get_child(is_right=False)\n",
    "            left_already_searched = False\n",
    "            right_already_searched = False\n",
    "            search_index += 1\n",
    "            depth += 1\n",
    "            continue\n",
    "        if node_to_search.has_child(is_right=True) and not right_already_searched:\n",
    "            node_to_search = node_to_search.get_child(is_right=True)\n",
    "            left_already_searched = False\n",
    "            right_already_searched = False\n",
    "            search_index += 1\n",
    "            depth += 1\n",
    "            continue\n",
    "        if not node_to_search.has_child(is_right=True) or right_already_searched:\n",
    "            search_index += 1\n",
    "            array[search_index] = depth-1 # finish\n",
    "            if node_to_search.is_root():\n",
    "                break\n",
    "            parent = node_to_search.get_parent()\n",
    "            if parent.has_child(is_right=False) and parent.get_child(is_right=False)==node_to_search:\n",
    "                right_already_searched = False\n",
    "            if parent.has_child(is_right=True) and parent.get_child(is_right=True)==node_to_search:\n",
    "                right_already_searched = True\n",
    "            node_to_search = parent\n",
    "            search_index += 1\n",
    "            depth -= 1\n",
    "            left_already_searched = True\n",
    "    return array"
   ]
  },
  {
   "cell_type": "code",
   "execution_count": 45,
   "metadata": {},
   "outputs": [
    {
     "data": {
      "text/plain": [
       "array([0, 1, 2, 3, 4, 3, 4, 3, 2, 1, 2, 3, 2, 3, 4, 3, 2, 1, 0])"
      ]
     },
     "execution_count": 45,
     "metadata": {},
     "output_type": "execute_result"
    }
   ],
   "source": [
    "make_DFS_array_from_Cartesian_tree(c)"
   ]
  },
  {
   "cell_type": "code",
   "execution_count": 55,
   "metadata": {
    "collapsed": true
   },
   "outputs": [],
   "source": [
    "def make_plus_minus_one_array(tree:Cartesian_tree):\n",
    "    DFS_array = make_DFS_array_from_Cartesian_tree(tree)\n",
    "    B = ((DFS_array[1:]-DFS_array[:-1])==1).astype('int')\n",
    "    return B"
   ]
  },
  {
   "cell_type": "code",
   "execution_count": 56,
   "metadata": {},
   "outputs": [
    {
     "data": {
      "text/plain": [
       "array([1, 1, 1, 1, 0, 1, 0, 0, 0, 1, 1, 0, 1, 1, 0, 0, 0, 0])"
      ]
     },
     "execution_count": 56,
     "metadata": {},
     "output_type": "execute_result"
    }
   ],
   "source": [
    "make_plus_minus_one_array(c)"
   ]
  },
  {
   "cell_type": "code",
   "execution_count": null,
   "metadata": {
    "collapsed": true
   },
   "outputs": [],
   "source": []
  }
 ],
 "metadata": {
  "kernelspec": {
   "display_name": "Python 3",
   "language": "python",
   "name": "python3"
  },
  "language_info": {
   "codemirror_mode": {
    "name": "ipython",
    "version": 3
   },
   "file_extension": ".py",
   "mimetype": "text/x-python",
   "name": "python",
   "nbconvert_exporter": "python",
   "pygments_lexer": "ipython3",
   "version": "3.6.10"
  }
 },
 "nbformat": 4,
 "nbformat_minor": 2
}
