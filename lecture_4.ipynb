{
 "cells": [
  {
   "cell_type": "code",
   "execution_count": 1,
   "metadata": {
    "collapsed": true
   },
   "outputs": [],
   "source": [
    "import numpy as np"
   ]
  },
  {
   "cell_type": "code",
   "execution_count": 66,
   "metadata": {},
   "outputs": [],
   "source": [
    "class Binary_node():\n",
    "    def  __init__(self,parent,value):\n",
    "        self.parent = parent\n",
    "        self.value = value\n",
    "        self.left_child = None\n",
    "        self.right_child = None\n",
    "        \n",
    "    def __str__(self):\n",
    "        left_child_value = self.left_child.value if self.left_child is not None else 'None'\n",
    "        right_child_value = self.right_child.value if self.right_child is not None else 'None'\n",
    "        parent_value = self.get_parent().value if not self.is_root() else None\n",
    "        return f'parent:{parent_value},value:{self.value},index:{self.index}'\n",
    "    \n",
    "    def set_parent(self, parent:Binary_node):\n",
    "        self.parent = parent\n",
    "    \n",
    "    def set_child(self, child:Binary_node, is_right:bool):\n",
    "        child.set_parent(self)\n",
    "        if is_right:\n",
    "            self.right_child = child\n",
    "        else:\n",
    "            self.left_child = child\n",
    "    \n",
    "    def get_parent(self)->Binary_node:\n",
    "        return self.parent\n",
    "    \n",
    "    def get_child(self,is_right:bool)->Binary_node:\n",
    "        if is_right:\n",
    "            return self.right_child\n",
    "        else:\n",
    "            return self.left_child\n",
    "    \n",
    "    def is_root(self):\n",
    "        return (self.parent is None)\n",
    "    \n",
    "    def has_child(self,is_right):\n",
    "        if is_right:\n",
    "            return self.right_child is not None\n",
    "        else:\n",
    "            return self.left_child is not None\n",
    "        \n",
    "\n",
    "class Binary_tree():\n",
    "    def  __init__(self,root_value):\n",
    "        self.root = Binary_node(parent=None,value=root_value)\n",
    "    \n",
    "    def get_root(self):\n",
    "        return self.root\n",
    "    \n",
    "    def set_root(self,new_root):\n",
    "        self.root = new_root"
   ]
  },
  {
   "cell_type": "code",
   "execution_count": 67,
   "metadata": {
    "collapsed": true
   },
   "outputs": [],
   "source": [
    "class Cartesian_node(Binary_node):\n",
    "    def __init__(self,parent,value,index):\n",
    "        super().__init__(parent,value)\n",
    "        self.index = index\n",
    "    \n",
    "    def get_index(self):\n",
    "        return self.index\n",
    "    \n",
    "    def set_index(self,index):\n",
    "        self.index = index\n",
    "        \n",
    "        \n",
    "class Cartesian_tree(Binary_tree):\n",
    "    def __init__(self,A:list):\n",
    "        self.set_root(Cartesian_node(None,A[0],0))\n",
    "        for i in range(1,len(A)):\n",
    "            node_on_rightmost_path = self.get_root()\n",
    "            while node_on_rightmost_path.has_child(is_right=True):\n",
    "                if A[i] < node_on_rightmost_path.value and node_on_rightmost_path.is_root:\n",
    "                    break\n",
    "                next_node = node_on_rightmost_path.get_child(is_right=True)\n",
    "                if node_on_rightmost_path.value <= A[i] < next_node.value:\n",
    "                    break\n",
    "                node_on_rightmost_path = next_node\n",
    "                \n",
    "                \n",
    "            if not node_on_rightmost_path.has_child(is_right=True):\n",
    "                new_node = Cartesian_node(node_on_rightmost_path,A[i],i)\n",
    "                node_on_rightmost_path.set_child(new_node,is_right=True)\n",
    "            elif node_on_rightmost_path.is_root() and A[i] < node_on_rightmost_path.value:\n",
    "                new_node = Cartesian_node(None,A[i],i)\n",
    "                new_node.set_child(node_on_rightmost_path,is_right=False)\n",
    "                self.set_root(new_node)\n",
    "            else:\n",
    "                new_node = Cartesian_node(node_on_rightmost_path,A[i],i)\n",
    "                if node_on_rightmost_path.has_child(is_right=True):\n",
    "                    new_node.set_child(node_on_rightmost_path.get_child(is_right=True), is_right=False)\n",
    "                node_on_rightmost_path.set_child(new_node,is_right=True)\n",
    "        "
   ]
  },
  {
   "cell_type": "code",
   "execution_count": 68,
   "metadata": {},
   "outputs": [],
   "source": [
    "c = Cartesian_tree([2,4,3,5,1,8,6,7,9])"
   ]
  },
  {
   "cell_type": "code",
   "execution_count": 71,
   "metadata": {},
   "outputs": [
    {
     "name": "stdout",
     "output_type": "stream",
     "text": [
      "parent:None,value:1,index:4\n",
      "\n",
      "parent:1,value:2,index:0\n",
      "parent:1,value:6,index:6\n",
      "\n",
      "parent:2,value:3,index:2\n",
      "parent:6,value:8,index:5\n",
      "parent:6,value:7,index:7\n",
      "\n",
      "parent:3,value:4,index:1\n",
      "parent:3,value:5,index:3\n",
      "parent:7,value:9,index:8\n"
     ]
    }
   ],
   "source": [
    "print(c.get_root())\n",
    "print()\n",
    "print(c.get_root().get_child(is_right=False))\n",
    "print(c.get_root().get_child(is_right=True))\n",
    "print()\n",
    "print(c.get_root().get_child(is_right=False).get_child(is_right=True))\n",
    "print(c.get_root().get_child(is_right=True).get_child(is_right=False))\n",
    "print(c.get_root().get_child(is_right=True).get_child(is_right=True))\n",
    "print()\n",
    "print(c.get_root().get_child(is_right=False).get_child(is_right=True).get_child(is_right=False))\n",
    "print(c.get_root().get_child(is_right=False).get_child(is_right=True).get_child(is_right=True))\n",
    "print(c.get_root().get_child(is_right=True).get_child(is_right=True).get_child(is_right=True))"
   ]
  },
  {
   "cell_type": "code",
   "execution_count": null,
   "metadata": {
    "collapsed": true
   },
   "outputs": [],
   "source": []
  }
 ],
 "metadata": {
  "kernelspec": {
   "display_name": "Python 3",
   "language": "python",
   "name": "python3"
  },
  "language_info": {
   "codemirror_mode": {
    "name": "ipython",
    "version": 3
   },
   "file_extension": ".py",
   "mimetype": "text/x-python",
   "name": "python",
   "nbconvert_exporter": "python",
   "pygments_lexer": "ipython3",
   "version": "3.6.10"
  }
 },
 "nbformat": 4,
 "nbformat_minor": 2
}
